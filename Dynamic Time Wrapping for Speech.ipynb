{
  "nbformat": 4,
  "nbformat_minor": 0,
  "metadata": {
    "colab": {
      "name": "lab3.ipynb",
      "provenance": []
    },
    "kernelspec": {
      "name": "python3",
      "display_name": "Python 3"
    },
    "language_info": {
      "name": "python"
    }
  },
  "cells": [
    {
      "cell_type": "markdown",
      "metadata": {
        "id": "NFeONZdF9s4R"
      },
      "source": [
        "# CSE 5525 Lab3\n",
        "## Xuecheng Liu"
      ]
    },
    {
      "cell_type": "markdown",
      "metadata": {
        "id": "W0vGQyIC94KP"
      },
      "source": [
        "Before running this notebook, please import the digit data to properiate folder."
      ]
    },
    {
      "cell_type": "markdown",
      "metadata": {
        "id": "3z8_VB3K-DX9"
      },
      "source": [
        "For a), the following block will include the DTW implementation according to the hands-on and distance metrics."
      ]
    },
    {
      "cell_type": "code",
      "metadata": {
        "id": "6l5ZgHmj_WIs"
      },
      "source": [
        "import numpy as np\n",
        "import scipy.io.wavfile\n",
        "import matplotlib.pyplot as plt \n",
        "import numpy.fft as npfft \n",
        "import IPython"
      ],
      "execution_count": 64,
      "outputs": []
    },
    {
      "cell_type": "code",
      "metadata": {
        "id": "jYoCny0N9oX1"
      },
      "source": [
        "def dist(x,y):\n",
        "  return np.linalg.norm(x-y)\n",
        "\n",
        "def dtw(x, y, dist):\n",
        "    m = len(x)\n",
        "    n = len(y)\n",
        "    D = np.zeros((m, n))\n",
        "    D[0,1:] = np.inf\n",
        "    D[1:,0] = np.inf\n",
        "    for i in range(m):\n",
        "        for j in range(n):\n",
        "            D[i, j] = min([D[i-1, j], D[i-1, j-1], D[i,j-1]]) + dist(x[i], y[j])\n",
        "    return D[-1, -1]"
      ],
      "execution_count": 65,
      "outputs": []
    },
    {
      "cell_type": "markdown",
      "metadata": {
        "id": "vEZj7Jb2-owC"
      },
      "source": [
        "The next step is to get the wave data and convert them into log mel spectral representations. The code is provided in Spectrogram Hands-on."
      ]
    },
    {
      "cell_type": "code",
      "metadata": {
        "id": "8YUj1gr5xztX"
      },
      "source": [
        "def linear2mel(freq):\n",
        "  #B(f) = 1125 ln (1+f/700)\n",
        "  return 1125 * np.log(1+freq/700)\n",
        "\n",
        "def mel2linear(freq):\n",
        "  #B^-1(b) = 700(e^(b/1125)-1)\n",
        "  return 700*(np.exp(freq/1125)-1)\n",
        "\n",
        "def melfb_boundaries(sf,n_fb):\n",
        "  f1=0\n",
        "  b1=linear2mel(f1)\n",
        "  fh=sf/2\n",
        "  bh=linear2mel(fh)\n",
        "  return mel2linear(b1+np.arange(0,n_fb+1)*(bh-b1)/n_fb)\n",
        "\n",
        "def melfilterbanks(sf,n_fb,nbin):\n",
        "  freq=np.arange(0,sf,sf/nbin)\n",
        "  melf_bins=melfb_boundaries(sf,n_fb+2)*nbin/(sf/2)\n",
        "  H=np.zeros((n_fb,nbin))\n",
        "  for flt in np.arange(1,n_fb+1):\n",
        "    center=melf_bins[flt]\n",
        "    prevbin=melf_bins[flt-1]\n",
        "    nextbin=melf_bins[flt+1]\n",
        "    k=np.arange(int(np.ceil(prevbin)),int(np.floor(center))+1)\n",
        "    #print(k)\n",
        "    H[flt-1,k]= 2*(k-prevbin)/((nextbin-prevbin)*(center-prevbin))\n",
        "    k=np.arange(int(np.ceil(center)),int(np.floor(nextbin))+1)\n",
        "    #print(k)\n",
        "    H[flt-1,k]= 2*(nextbin-k)/((nextbin-prevbin)*(nextbin-center))\n",
        "  return H.T\n",
        "\n",
        "\n",
        "def melfilterbank_wave(wavefile, stepsize=0.01, windowsize=0.025):\n",
        "  (sf,x)=scipy.io.wavfile.read(wavefile)\n",
        "  winsize=int(sf*windowsize)  # windowsize in sec, sf in samples/sec\n",
        "  shift=int(sf*stepsize)      # stepsize in sec, sf in samples/sec\n",
        "  starts=np.arange(0,x.shape[-1]-winsize,shift) \n",
        "  # note here that we're going to get rid of higher half of frequencies\n",
        "  L=np.zeros([starts.shape[-1],winsize//2],dtype=float)\n",
        "  hamming=np.hamming(winsize)\n",
        "  for c in np.arange(0,starts.shape[-1]): \n",
        "    start=starts[c]\n",
        "    X=npfft.fft(x[start:start+winsize]*hamming)\n",
        "    # remove frequencies above nyquist\n",
        "    X=X[0:X.shape[-1]//2] \n",
        "    L[c,:]=np.log(X.real**2+X.imag**2)\n",
        "  m=melfilterbanks(sf,40,winsize//2)\n",
        "  return np.dot(L,m)"
      ],
      "execution_count": 66,
      "outputs": []
    },
    {
      "cell_type": "markdown",
      "metadata": {
        "id": "FGU5G7TM_bt5"
      },
      "source": [
        "Here, variable x is the spectrol representation of wave 1a"
      ]
    },
    {
      "cell_type": "code",
      "metadata": {
        "colab": {
          "base_uri": "https://localhost:8080/",
          "height": 286
        },
        "id": "ndYy_fNN_MZj",
        "outputId": "ec71aac9-8b96-40b3-f77d-e21a6aa5e9f4"
      },
      "source": [
        "x = melfilterbank_wave('1a.wav')\n",
        "plt.pcolormesh(x.transpose(),cmap='jet',vmin=10,vmax=25)"
      ],
      "execution_count": 73,
      "outputs": [
        {
          "output_type": "execute_result",
          "data": {
            "text/plain": [
              "<matplotlib.collections.QuadMesh at 0x7f8bb6451510>"
            ]
          },
          "metadata": {
            "tags": []
          },
          "execution_count": 73
        },
        {
          "output_type": "display_data",
          "data": {
            "image/png": "[encoded data removed]",
            "text/plain": [
              "<Figure size 432x288 with 1 Axes>"
            ]
          },
          "metadata": {
            "tags": [],
            "needs_background": "light"
          }
        }
      ]
    },
    {
      "cell_type": "markdown",
      "metadata": {
        "id": "OpxiXLZtAiQt"
      },
      "source": [
        "Next I would choose to compare scores of 1a and 1b v.s scores of 1a and 2a"
      ]
    },
    {
      "cell_type": "code",
      "metadata": {
        "colab": {
          "base_uri": "https://localhost:8080/"
        },
        "id": "-RQsMaQy_ECx",
        "outputId": "8db66e2f-eaa2-49da-d0f3-d48a514330db"
      },
      "source": [
        "y = melfilterbank_wave('1b.wav')\n",
        "z = melfilterbank_wave('2a.wav')\n",
        "D1= dtw(x,y,dist)\n",
        "D2 = dtw(x,z,dist)\n",
        "\n",
        "print(\"Scores between 1a and 1b is \",D1)\n",
        "print(\"Scores between 1a and 2a is \",D2)"
      ],
      "execution_count": 77,
      "outputs": [
        {
          "output_type": "stream",
          "text": [
            "Scores between 1a and 1b is  555.177812881349\n",
            "Scores between 1a and 2a is  834.0703264413027\n"
          ],
          "name": "stdout"
        }
      ]
    },
    {
      "cell_type": "markdown",
      "metadata": {
        "id": "kisyaijWBi5R"
      },
      "source": [
        "Clearly, scores between matched pairs and smaller, which makes sense since they are similar."
      ]
    },
    {
      "cell_type": "markdown",
      "metadata": {
        "id": "vBT1t62yB0ef"
      },
      "source": [
        "Now the next step is to build a classifier using \"a\" version wave files as templetes and \"b\" versions as tests"
      ]
    },
    {
      "cell_type": "markdown",
      "metadata": {
        "id": "h-gbS8BGC9pn"
      },
      "source": [
        "The general approach would be for a given wave, compute its distance with all the \"a\" versions waves and pick the smallest one."
      ]
    },
    {
      "cell_type": "code",
      "metadata": {
        "id": "fs9hgymnCA7e"
      },
      "source": [
        "templetes = [\"1a\",\"2a\",\"3a\",\"4a\",\"5a\",\"6a\",\"7a\",\"8a\",\"9a\",\"oa\",\"za\"]\n",
        "tests = [\"1b\",\"2b\",\"3b\",\"4b\",\"5b\",\"6b\",\"7b\",\"8b\",\"9b\",\"ob\",\"zb\"]\n",
        "label = [\"1\",\"2\",\"3\",\"4\",\"5\",\"6\",\"7\",\"8\",\"9\",\"o\",\"z\"]"
      ],
      "execution_count": 83,
      "outputs": []
    },
    {
      "cell_type": "code",
      "metadata": {
        "id": "eB-7S6WwE_n1"
      },
      "source": [
        "temp = [] # list contains all \"a\" version waves\n",
        "for i in range(11): # list contains all \"b\" version waves\n",
        "  temp.append(melfilterbank_wave(templetes[i]+'.wav'))\n",
        "\n",
        "test = []\n",
        "for i in range(11):\n",
        "  test.append(melfilterbank_wave(tests[i]+'.wav'))"
      ],
      "execution_count": 95,
      "outputs": []
    },
    {
      "cell_type": "code",
      "metadata": {
        "id": "L5s0zXK1FgGd"
      },
      "source": [
        "predictions = []\n",
        "for i in range(11):\n",
        "  scores = []\n",
        "  for j in range(11):\n",
        "    scores.append(dtw(test[i],temp[j],dist)) # for a given test, compare with all temps\n",
        "  predictions.append(label[scores.index(min(scores))])\n",
        "\n"
      ],
      "execution_count": 106,
      "outputs": []
    },
    {
      "cell_type": "code",
      "metadata": {
        "colab": {
          "base_uri": "https://localhost:8080/"
        },
        "id": "wr46hN_kIeSC",
        "outputId": "ac65518b-38d0-4ba1-f348-0917f850cbea"
      },
      "source": [
        "predictions"
      ],
      "execution_count": 107,
      "outputs": [
        {
          "output_type": "execute_result",
          "data": {
            "text/plain": [
              "['1', '2', '3', '4', '5', '2', '7', '8', '9', 'o', 'z']"
            ]
          },
          "metadata": {
            "tags": []
          },
          "execution_count": 107
        }
      ]
    },
    {
      "cell_type": "code",
      "metadata": {
        "colab": {
          "base_uri": "https://localhost:8080/"
        },
        "id": "kOnnG_95HO5m",
        "outputId": "aebdf75a-fcdb-4c4d-b3e7-1a4f087a8893"
      },
      "source": [
        "err = 0\n",
        "for i in range(11):\n",
        "  if predictions[i] != label[i]:\n",
        "    err = err +1\n",
        "(11 - err)*100/11 # accuracy"
      ],
      "execution_count": 114,
      "outputs": [
        {
          "output_type": "execute_result",
          "data": {
            "text/plain": [
              "90.9090909090909"
            ]
          },
          "metadata": {
            "tags": []
          },
          "execution_count": 114
        }
      ]
    },
    {
      "cell_type": "markdown",
      "metadata": {
        "id": "AKGd4gC-J4iL"
      },
      "source": [
        "In summary, we have around 91% accuracy in predicting the labels."
      ]
    }
  ]
}